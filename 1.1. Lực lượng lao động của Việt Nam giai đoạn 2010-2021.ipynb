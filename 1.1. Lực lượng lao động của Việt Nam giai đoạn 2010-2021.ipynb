{
 "cells": [
  {
   "cell_type": "code",
   "execution_count": 1,
   "id": "2277d2c7",
   "metadata": {},
   "outputs": [
    {
     "name": "stdout",
     "output_type": "stream",
     "text": [
      "Defaulting to user installation because normal site-packages is not writeable\n",
      "Requirement already satisfied: dash in c:\\users\\admin\\appdata\\roaming\\python\\python39\\site-packages (2.9.2)\n",
      "Requirement already satisfied: pandas in c:\\programdata\\anaconda3\\lib\\site-packages (1.4.2)\n",
      "Requirement already satisfied: plotly in c:\\programdata\\anaconda3\\lib\\site-packages (5.6.0)\n",
      "Requirement already satisfied: Flask>=1.0.4 in c:\\programdata\\anaconda3\\lib\\site-packages (from dash) (1.1.2)\n",
      "Requirement already satisfied: dash-html-components==2.0.0 in c:\\users\\admin\\appdata\\roaming\\python\\python39\\site-packages (from dash) (2.0.0)\n",
      "Requirement already satisfied: dash-core-components==2.0.0 in c:\\users\\admin\\appdata\\roaming\\python\\python39\\site-packages (from dash) (2.0.0)\n",
      "Requirement already satisfied: dash-table==5.0.0 in c:\\users\\admin\\appdata\\roaming\\python\\python39\\site-packages (from dash) (5.0.0)\n",
      "Requirement already satisfied: pytz>=2020.1 in c:\\users\\admin\\appdata\\roaming\\python\\python39\\site-packages (from pandas) (2022.7.1)\n",
      "Requirement already satisfied: numpy>=1.18.5 in c:\\programdata\\anaconda3\\lib\\site-packages (from pandas) (1.21.5)\n",
      "Requirement already satisfied: python-dateutil>=2.8.1 in c:\\programdata\\anaconda3\\lib\\site-packages (from pandas) (2.8.2)\n",
      "Requirement already satisfied: six in c:\\programdata\\anaconda3\\lib\\site-packages (from plotly) (1.16.0)\n",
      "Requirement already satisfied: tenacity>=6.2.0 in c:\\programdata\\anaconda3\\lib\\site-packages (from plotly) (8.0.1)\n",
      "Requirement already satisfied: Jinja2>=2.10.1 in c:\\programdata\\anaconda3\\lib\\site-packages (from Flask>=1.0.4->dash) (2.11.3)\n",
      "Requirement already satisfied: click>=5.1 in c:\\programdata\\anaconda3\\lib\\site-packages (from Flask>=1.0.4->dash) (8.0.4)\n",
      "Requirement already satisfied: itsdangerous>=0.24 in c:\\programdata\\anaconda3\\lib\\site-packages (from Flask>=1.0.4->dash) (2.0.1)\n",
      "Requirement already satisfied: Werkzeug>=0.15 in c:\\programdata\\anaconda3\\lib\\site-packages (from Flask>=1.0.4->dash) (2.0.3)\n",
      "Requirement already satisfied: colorama in c:\\programdata\\anaconda3\\lib\\site-packages (from click>=5.1->Flask>=1.0.4->dash) (0.4.4)\n",
      "Requirement already satisfied: MarkupSafe>=0.23 in c:\\programdata\\anaconda3\\lib\\site-packages (from Jinja2>=2.10.1->Flask>=1.0.4->dash) (2.0.1)\n",
      "Note: you may need to restart the kernel to use updated packages.\n"
     ]
    }
   ],
   "source": [
    "pip install dash pandas plotly"
   ]
  },
  {
   "cell_type": "code",
   "execution_count": 2,
   "id": "9fbe3c8d",
   "metadata": {},
   "outputs": [],
   "source": [
    "import pandas as pd\n",
    "import numpy as np\n",
    "import plotly.express as px "
   ]
  },
  {
   "cell_type": "code",
   "execution_count": 3,
   "id": "63e29975",
   "metadata": {},
   "outputs": [
    {
     "name": "stdout",
     "output_type": "stream",
     "text": [
      "Defaulting to user installation because normal site-packages is not writeable\n",
      "Requirement already satisfied: dash in c:\\users\\admin\\appdata\\roaming\\python\\python39\\site-packages (2.9.2)\n",
      "Requirement already satisfied: dash-core-components==2.0.0 in c:\\users\\admin\\appdata\\roaming\\python\\python39\\site-packages (from dash) (2.0.0)\n",
      "Requirement already satisfied: Flask>=1.0.4 in c:\\programdata\\anaconda3\\lib\\site-packages (from dash) (1.1.2)\n",
      "Requirement already satisfied: dash-html-components==2.0.0 in c:\\users\\admin\\appdata\\roaming\\python\\python39\\site-packages (from dash) (2.0.0)\n",
      "Requirement already satisfied: dash-table==5.0.0 in c:\\users\\admin\\appdata\\roaming\\python\\python39\\site-packages (from dash) (5.0.0)\n",
      "Requirement already satisfied: plotly>=5.0.0 in c:\\programdata\\anaconda3\\lib\\site-packages (from dash) (5.6.0)\n",
      "Requirement already satisfied: Werkzeug>=0.15 in c:\\programdata\\anaconda3\\lib\\site-packages (from Flask>=1.0.4->dash) (2.0.3)\n",
      "Requirement already satisfied: itsdangerous>=0.24 in c:\\programdata\\anaconda3\\lib\\site-packages (from Flask>=1.0.4->dash) (2.0.1)\n",
      "Requirement already satisfied: click>=5.1 in c:\\programdata\\anaconda3\\lib\\site-packages (from Flask>=1.0.4->dash) (8.0.4)\n",
      "Requirement already satisfied: Jinja2>=2.10.1 in c:\\programdata\\anaconda3\\lib\\site-packages (from Flask>=1.0.4->dash) (2.11.3)\n",
      "Requirement already satisfied: colorama in c:\\programdata\\anaconda3\\lib\\site-packages (from click>=5.1->Flask>=1.0.4->dash) (0.4.4)\n",
      "Requirement already satisfied: MarkupSafe>=0.23 in c:\\programdata\\anaconda3\\lib\\site-packages (from Jinja2>=2.10.1->Flask>=1.0.4->dash) (2.0.1)\n",
      "Requirement already satisfied: six in c:\\programdata\\anaconda3\\lib\\site-packages (from plotly>=5.0.0->dash) (1.16.0)\n",
      "Requirement already satisfied: tenacity>=6.2.0 in c:\\programdata\\anaconda3\\lib\\site-packages (from plotly>=5.0.0->dash) (8.0.1)\n",
      "Note: you may need to restart the kernel to use updated packages.\n"
     ]
    }
   ],
   "source": [
    "pip install dash"
   ]
  },
  {
   "cell_type": "code",
   "execution_count": 4,
   "id": "ad3d3fd5",
   "metadata": {},
   "outputs": [
    {
     "name": "stderr",
     "output_type": "stream",
     "text": [
      "C:\\Users\\admin\\AppData\\Local\\Temp\\ipykernel_23184\\4185938564.py:4: UserWarning: \n",
      "The dash_core_components package is deprecated. Please replace\n",
      "`import dash_core_components as dcc` with `from dash import dcc`\n",
      "  import dash_core_components as dcc\n",
      "C:\\Users\\admin\\AppData\\Local\\Temp\\ipykernel_23184\\4185938564.py:5: UserWarning: \n",
      "The dash_html_components package is deprecated. Please replace\n",
      "`import dash_html_components as html` with `from dash import html`\n",
      "  import dash_html_components as html\n"
     ]
    }
   ],
   "source": [
    "import pandas as pd\n",
    "import plotly.express as px\n",
    "import dash\n",
    "import dash_core_components as dcc\n",
    "import dash_html_components as html\n",
    "from dash.dependencies import Input, Output"
   ]
  },
  {
   "cell_type": "code",
   "execution_count": null,
   "id": "d67b2c4f",
   "metadata": {},
   "outputs": [
    {
     "name": "stdout",
     "output_type": "stream",
     "text": [
      "Dash is running on http://127.0.0.1:8084/\n",
      "\n",
      " * Serving Flask app \"__main__\" (lazy loading)\n",
      " * Environment: production\n",
      "\u001b[31m   WARNING: This is a development server. Do not use it in a production deployment.\u001b[0m\n",
      "\u001b[2m   Use a production WSGI server instead.\u001b[0m\n",
      " * Debug mode: off\n"
     ]
    },
    {
     "name": "stderr",
     "output_type": "stream",
     "text": [
      " * Running on http://127.0.0.1:8084/ (Press CTRL+C to quit)\n",
      "127.0.0.1 - - [08/Apr/2023 10:07:52] \"GET / HTTP/1.1\" 200 -\n",
      "127.0.0.1 - - [08/Apr/2023 10:07:52] \"GET /_dash-dependencies HTTP/1.1\" 200 -\n",
      "127.0.0.1 - - [08/Apr/2023 10:07:52] \"GET /_dash-layout HTTP/1.1\" 200 -\n",
      "127.0.0.1 - - [08/Apr/2023 10:07:52] \"POST /_dash-update-component HTTP/1.1\" 200 -\n",
      "127.0.0.1 - - [08/Apr/2023 10:07:52] \"GET /_dash-component-suites/dash/dcc/async-dropdown.js HTTP/1.1\" 200 -\n",
      "127.0.0.1 - - [08/Apr/2023 10:07:52] \"GET /_dash-component-suites/dash/dcc/async-graph.js HTTP/1.1\" 200 -\n",
      "127.0.0.1 - - [08/Apr/2023 10:07:53] \"GET /_dash-component-suites/dash/dcc/async-plotlyjs.js HTTP/1.1\" 200 -\n",
      "127.0.0.1 - - [08/Apr/2023 10:07:55] \"POST /_dash-update-component HTTP/1.1\" 200 -\n",
      "127.0.0.1 - - [08/Apr/2023 10:07:56] \"POST /_dash-update-component HTTP/1.1\" 200 -\n",
      "127.0.0.1 - - [08/Apr/2023 10:08:26] \"POST /_dash-update-component HTTP/1.1\" 200 -\n"
     ]
    }
   ],
   "source": [
    "import dash\n",
    "import dash_core_components as dcc\n",
    "import dash_html_components as html\n",
    "import pandas as pd\n",
    "import plotly.express as px\n",
    "\n",
    "# Đọc dữ liệu từ tệp csv\n",
    "columns_total = ['Năm','Tổng số','Nam','Nữ','Thành thị','Nông thôn']\n",
    "data_total =pd.read_excel('Thất nghiệp 2011-2020.xlsx', 'Lực lượng lao động', header= None, names=columns_total)\n",
    "\n",
    "# Tạo biểu đồ Line chart\n",
    "total_chart = dcc.Graph(\n",
    "    id='total-chart',\n",
    "    figure=px.line(data_total , x='Năm', y='Tổng số', title='Biểu đồ tổng thể về lực lượng lao động của Việt Nam năm 2010-2021')\n",
    ")\n",
    "\n",
    "# Tạo biểu đồ Stacked Bar chart theo giới tính\n",
    "gender_bar_chart = dcc.Graph(\n",
    "    id='gender-bar-chart',\n",
    "    figure=px.bar(data_total , x='Năm', y=['Nam', 'Nữ'], title='Biểu đồ về lực lượng lao động theo giới tính năm 2010-2021', barmode='stack')\n",
    ")\n",
    "\n",
    "# Tạo biểu đồ Stacked Bar chart theo khu vực\n",
    "location_bar_chart = dcc.Graph(\n",
    "    id='location-bar-chart',\n",
    "    figure=px.bar(data_total , x='Năm', y=['Thành thị', 'Nông thôn'], title='Biểu đồ về lực lượng lao động theo khu vực năm 2010-2021', barmode='stack')\n",
    ")\n",
    "\n",
    "# Tạo ứng dụng Dash\n",
    "app = dash.Dash(__name__)\n",
    "\n",
    "# Tạo layout cho ứng dụng Dash\n",
    "app.layout = html.Div([\n",
    "    html.H1('Biểu đồ lực lượng lao động của Việt Nam năm 2010-2021'),\n",
    "    html.Div([\n",
    "        dcc.Dropdown(\n",
    "            id='chart-dropdown',\n",
    "            options=[\n",
    "                {'label': 'Tổng thể', 'value': 'total-chart'},\n",
    "                {'label': 'Giới tính', 'value': 'gender-bar-chart'},\n",
    "                {'label': 'Khu vực', 'value': 'location-bar-chart'}\n",
    "            ],\n",
    "            value='total-chart'\n",
    "        )\n",
    "    ]),\n",
    "    html.Div(id='chart-container')\n",
    "])\n",
    "\n",
    "# Cập nhật biểu đồ khi có sự thay đổi từ dropdown\n",
    "@app.callback(\n",
    "    dash.dependencies.Output('chart-container', 'children'),\n",
    "    [dash.dependencies.Input('chart-dropdown', 'value')]\n",
    ")\n",
    "def update_chart(value):\n",
    "    if value == 'total-chart':\n",
    "        return total_chart\n",
    "    elif value == 'gender-bar-chart':\n",
    "        return gender_bar_chart\n",
    "    elif value == 'location-bar-chart':\n",
    "        return location_bar_chart\n",
    "\n",
    "# Khởi chạy ứng dụng Dash\n",
    "if __name__ == '__main__':\n",
    "    app.run_server(debug=False,port=8084)\n"
   ]
  },
  {
   "cell_type": "code",
   "execution_count": null,
   "id": "ac5162bd",
   "metadata": {},
   "outputs": [],
   "source": []
  }
 ],
 "metadata": {
  "kernelspec": {
   "display_name": "Python 3 (ipykernel)",
   "language": "python",
   "name": "python3"
  },
  "language_info": {
   "codemirror_mode": {
    "name": "ipython",
    "version": 3
   },
   "file_extension": ".py",
   "mimetype": "text/x-python",
   "name": "python",
   "nbconvert_exporter": "python",
   "pygments_lexer": "ipython3",
   "version": "3.9.12"
  }
 },
 "nbformat": 4,
 "nbformat_minor": 5
}
